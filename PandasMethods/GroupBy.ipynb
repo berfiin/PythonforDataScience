{
 "cells": [
  {
   "cell_type": "code",
   "execution_count": 1,
   "metadata": {},
   "outputs": [],
   "source": [
    "import numpy as np\n",
    "import pandas as pd\n",
    "\n",
    "from pandas import Series,DataFrame"
   ]
  },
  {
   "cell_type": "code",
   "execution_count": 6,
   "metadata": {},
   "outputs": [],
   "source": [
    "df = pd.read_csv('veri_groupby.csv')"
   ]
  },
  {
   "cell_type": "code",
   "execution_count": 7,
   "metadata": {},
   "outputs": [
    {
     "data": {
      "text/html": [
       "<div>\n",
       "<style scoped>\n",
       "    .dataframe tbody tr th:only-of-type {\n",
       "        vertical-align: middle;\n",
       "    }\n",
       "\n",
       "    .dataframe tbody tr th {\n",
       "        vertical-align: top;\n",
       "    }\n",
       "\n",
       "    .dataframe thead th {\n",
       "        text-align: right;\n",
       "    }\n",
       "</style>\n",
       "<table border=\"1\" class=\"dataframe\">\n",
       "  <thead>\n",
       "    <tr style=\"text-align: right;\">\n",
       "      <th></th>\n",
       "      <th>deger1</th>\n",
       "      <th>deger2</th>\n",
       "      <th>gün</th>\n",
       "      <th>renk</th>\n",
       "      <th>isim</th>\n",
       "    </tr>\n",
       "  </thead>\n",
       "  <tbody>\n",
       "    <tr>\n",
       "      <th>0</th>\n",
       "      <td>12</td>\n",
       "      <td>15</td>\n",
       "      <td>pazartesi</td>\n",
       "      <td>kirmizi</td>\n",
       "      <td>berk</td>\n",
       "    </tr>\n",
       "    <tr>\n",
       "      <th>1</th>\n",
       "      <td>4</td>\n",
       "      <td>16</td>\n",
       "      <td>sali</td>\n",
       "      <td>kirmizi</td>\n",
       "      <td>theresa</td>\n",
       "    </tr>\n",
       "    <tr>\n",
       "      <th>2</th>\n",
       "      <td>9</td>\n",
       "      <td>25</td>\n",
       "      <td>carsamba</td>\n",
       "      <td>kirmizi</td>\n",
       "      <td>melih</td>\n",
       "    </tr>\n",
       "    <tr>\n",
       "      <th>3</th>\n",
       "      <td>15</td>\n",
       "      <td>65</td>\n",
       "      <td>pazartesi</td>\n",
       "      <td>siyah</td>\n",
       "      <td>alina</td>\n",
       "    </tr>\n",
       "    <tr>\n",
       "      <th>4</th>\n",
       "      <td>23</td>\n",
       "      <td>55</td>\n",
       "      <td>sali</td>\n",
       "      <td>siyah</td>\n",
       "      <td>ibo</td>\n",
       "    </tr>\n",
       "    <tr>\n",
       "      <th>5</th>\n",
       "      <td>22</td>\n",
       "      <td>39</td>\n",
       "      <td>carsamba</td>\n",
       "      <td>siyah</td>\n",
       "      <td>kaan</td>\n",
       "    </tr>\n",
       "    <tr>\n",
       "      <th>6</th>\n",
       "      <td>16</td>\n",
       "      <td>18</td>\n",
       "      <td>pazartesi</td>\n",
       "      <td>mavi</td>\n",
       "      <td>berk</td>\n",
       "    </tr>\n",
       "    <tr>\n",
       "      <th>7</th>\n",
       "      <td>8</td>\n",
       "      <td>47</td>\n",
       "      <td>sali</td>\n",
       "      <td>mavi</td>\n",
       "      <td>theresa</td>\n",
       "    </tr>\n",
       "    <tr>\n",
       "      <th>8</th>\n",
       "      <td>62</td>\n",
       "      <td>64</td>\n",
       "      <td>carsamba</td>\n",
       "      <td>mavi</td>\n",
       "      <td>melih</td>\n",
       "    </tr>\n",
       "    <tr>\n",
       "      <th>9</th>\n",
       "      <td>19</td>\n",
       "      <td>81</td>\n",
       "      <td>pazartesi</td>\n",
       "      <td>yesil</td>\n",
       "      <td>alina</td>\n",
       "    </tr>\n",
       "    <tr>\n",
       "      <th>10</th>\n",
       "      <td>21</td>\n",
       "      <td>92</td>\n",
       "      <td>sali</td>\n",
       "      <td>yesil</td>\n",
       "      <td>ibo</td>\n",
       "    </tr>\n",
       "    <tr>\n",
       "      <th>11</th>\n",
       "      <td>56</td>\n",
       "      <td>76</td>\n",
       "      <td>carsamba</td>\n",
       "      <td>yesil</td>\n",
       "      <td>kaan</td>\n",
       "    </tr>\n",
       "  </tbody>\n",
       "</table>\n",
       "</div>"
      ],
      "text/plain": [
       "    deger1  deger2        gün     renk     isim\n",
       "0       12      15  pazartesi  kirmizi     berk\n",
       "1        4      16       sali  kirmizi  theresa\n",
       "2        9      25   carsamba  kirmizi    melih\n",
       "3       15      65  pazartesi    siyah    alina\n",
       "4       23      55       sali    siyah      ibo\n",
       "5       22      39   carsamba    siyah     kaan\n",
       "6       16      18  pazartesi     mavi     berk\n",
       "7        8      47       sali     mavi  theresa\n",
       "8       62      64   carsamba     mavi    melih\n",
       "9       19      81  pazartesi    yesil    alina\n",
       "10      21      92       sali    yesil      ibo\n",
       "11      56      76   carsamba    yesil     kaan"
      ]
     },
     "execution_count": 7,
     "metadata": {},
     "output_type": "execute_result"
    }
   ],
   "source": [
    "df"
   ]
  },
  {
   "cell_type": "code",
   "execution_count": 8,
   "metadata": {},
   "outputs": [],
   "source": [
    "group1 = df.groupby(df['isim'])"
   ]
  },
  {
   "cell_type": "code",
   "execution_count": 10,
   "metadata": {},
   "outputs": [
    {
     "data": {
      "text/plain": [
       "{'alina': Int64Index([3, 9], dtype='int64'),\n",
       " 'berk': Int64Index([0, 6], dtype='int64'),\n",
       " 'ibo': Int64Index([4, 10], dtype='int64'),\n",
       " 'kaan': Int64Index([5, 11], dtype='int64'),\n",
       " 'melih': Int64Index([2, 8], dtype='int64'),\n",
       " 'theresa': Int64Index([1, 7], dtype='int64')}"
      ]
     },
     "execution_count": 10,
     "metadata": {},
     "output_type": "execute_result"
    }
   ],
   "source": [
    "group1.groups"
   ]
  },
  {
   "cell_type": "raw",
   "metadata": {},
   "source": [
    "group1.sum()"
   ]
  },
  {
   "cell_type": "code",
   "execution_count": 11,
   "metadata": {},
   "outputs": [
    {
     "data": {
      "text/html": [
       "<div>\n",
       "<style scoped>\n",
       "    .dataframe tbody tr th:only-of-type {\n",
       "        vertical-align: middle;\n",
       "    }\n",
       "\n",
       "    .dataframe tbody tr th {\n",
       "        vertical-align: top;\n",
       "    }\n",
       "\n",
       "    .dataframe thead th {\n",
       "        text-align: right;\n",
       "    }\n",
       "</style>\n",
       "<table border=\"1\" class=\"dataframe\">\n",
       "  <thead>\n",
       "    <tr style=\"text-align: right;\">\n",
       "      <th></th>\n",
       "      <th>deger1</th>\n",
       "      <th>deger2</th>\n",
       "    </tr>\n",
       "    <tr>\n",
       "      <th>isim</th>\n",
       "      <th></th>\n",
       "      <th></th>\n",
       "    </tr>\n",
       "  </thead>\n",
       "  <tbody>\n",
       "    <tr>\n",
       "      <th>alina</th>\n",
       "      <td>17.0</td>\n",
       "      <td>73.0</td>\n",
       "    </tr>\n",
       "    <tr>\n",
       "      <th>berk</th>\n",
       "      <td>14.0</td>\n",
       "      <td>16.5</td>\n",
       "    </tr>\n",
       "    <tr>\n",
       "      <th>ibo</th>\n",
       "      <td>22.0</td>\n",
       "      <td>73.5</td>\n",
       "    </tr>\n",
       "    <tr>\n",
       "      <th>kaan</th>\n",
       "      <td>39.0</td>\n",
       "      <td>57.5</td>\n",
       "    </tr>\n",
       "    <tr>\n",
       "      <th>melih</th>\n",
       "      <td>35.5</td>\n",
       "      <td>44.5</td>\n",
       "    </tr>\n",
       "    <tr>\n",
       "      <th>theresa</th>\n",
       "      <td>6.0</td>\n",
       "      <td>31.5</td>\n",
       "    </tr>\n",
       "  </tbody>\n",
       "</table>\n",
       "</div>"
      ],
      "text/plain": [
       "         deger1  deger2\n",
       "isim                   \n",
       "alina      17.0    73.0\n",
       "berk       14.0    16.5\n",
       "ibo        22.0    73.5\n",
       "kaan       39.0    57.5\n",
       "melih      35.5    44.5\n",
       "theresa     6.0    31.5"
      ]
     },
     "execution_count": 11,
     "metadata": {},
     "output_type": "execute_result"
    }
   ],
   "source": [
    "group1.mean()"
   ]
  },
  {
   "cell_type": "code",
   "execution_count": 12,
   "metadata": {},
   "outputs": [],
   "source": [
    "group2 = df['deger2'].groupby(df['renk'])"
   ]
  },
  {
   "cell_type": "code",
   "execution_count": 15,
   "metadata": {},
   "outputs": [
    {
     "data": {
      "text/plain": [
       "{'kirmizi': Int64Index([0, 1, 2], dtype='int64'),\n",
       " 'mavi': Int64Index([6, 7, 8], dtype='int64'),\n",
       " 'siyah': Int64Index([3, 4, 5], dtype='int64'),\n",
       " 'yesil': Int64Index([9, 10, 11], dtype='int64')}"
      ]
     },
     "execution_count": 15,
     "metadata": {},
     "output_type": "execute_result"
    }
   ],
   "source": [
    "group2.groups"
   ]
  },
  {
   "cell_type": "raw",
   "metadata": {},
   "source": [
    "group2.max()"
   ]
  },
  {
   "cell_type": "code",
   "execution_count": 16,
   "metadata": {},
   "outputs": [
    {
     "data": {
      "text/plain": [
       "<bound method GroupBy.sum of <pandas.core.groupby.generic.DataFrameGroupBy object at 0x0000026C41898A30>>"
      ]
     },
     "execution_count": 16,
     "metadata": {},
     "output_type": "execute_result"
    }
   ],
   "source": [
    "df.groupby(['isim','renk']).sum"
   ]
  },
  {
   "cell_type": "code",
   "execution_count": 17,
   "metadata": {},
   "outputs": [
    {
     "data": {
      "text/html": [
       "<div>\n",
       "<style scoped>\n",
       "    .dataframe tbody tr th:only-of-type {\n",
       "        vertical-align: middle;\n",
       "    }\n",
       "\n",
       "    .dataframe tbody tr th {\n",
       "        vertical-align: top;\n",
       "    }\n",
       "\n",
       "    .dataframe thead tr th {\n",
       "        text-align: left;\n",
       "    }\n",
       "\n",
       "    .dataframe thead tr:last-of-type th {\n",
       "        text-align: right;\n",
       "    }\n",
       "</style>\n",
       "<table border=\"1\" class=\"dataframe\">\n",
       "  <thead>\n",
       "    <tr>\n",
       "      <th></th>\n",
       "      <th colspan=\"8\" halign=\"left\">deger1</th>\n",
       "      <th colspan=\"8\" halign=\"left\">deger2</th>\n",
       "    </tr>\n",
       "    <tr>\n",
       "      <th></th>\n",
       "      <th>count</th>\n",
       "      <th>mean</th>\n",
       "      <th>std</th>\n",
       "      <th>min</th>\n",
       "      <th>25%</th>\n",
       "      <th>50%</th>\n",
       "      <th>75%</th>\n",
       "      <th>max</th>\n",
       "      <th>count</th>\n",
       "      <th>mean</th>\n",
       "      <th>std</th>\n",
       "      <th>min</th>\n",
       "      <th>25%</th>\n",
       "      <th>50%</th>\n",
       "      <th>75%</th>\n",
       "      <th>max</th>\n",
       "    </tr>\n",
       "    <tr>\n",
       "      <th>renk</th>\n",
       "      <th></th>\n",
       "      <th></th>\n",
       "      <th></th>\n",
       "      <th></th>\n",
       "      <th></th>\n",
       "      <th></th>\n",
       "      <th></th>\n",
       "      <th></th>\n",
       "      <th></th>\n",
       "      <th></th>\n",
       "      <th></th>\n",
       "      <th></th>\n",
       "      <th></th>\n",
       "      <th></th>\n",
       "      <th></th>\n",
       "      <th></th>\n",
       "    </tr>\n",
       "  </thead>\n",
       "  <tbody>\n",
       "    <tr>\n",
       "      <th>kirmizi</th>\n",
       "      <td>3.0</td>\n",
       "      <td>8.333333</td>\n",
       "      <td>4.041452</td>\n",
       "      <td>4.0</td>\n",
       "      <td>6.5</td>\n",
       "      <td>9.0</td>\n",
       "      <td>10.5</td>\n",
       "      <td>12.0</td>\n",
       "      <td>3.0</td>\n",
       "      <td>18.666667</td>\n",
       "      <td>5.507571</td>\n",
       "      <td>15.0</td>\n",
       "      <td>15.5</td>\n",
       "      <td>16.0</td>\n",
       "      <td>20.5</td>\n",
       "      <td>25.0</td>\n",
       "    </tr>\n",
       "    <tr>\n",
       "      <th>mavi</th>\n",
       "      <td>3.0</td>\n",
       "      <td>28.666667</td>\n",
       "      <td>29.143324</td>\n",
       "      <td>8.0</td>\n",
       "      <td>12.0</td>\n",
       "      <td>16.0</td>\n",
       "      <td>39.0</td>\n",
       "      <td>62.0</td>\n",
       "      <td>3.0</td>\n",
       "      <td>43.000000</td>\n",
       "      <td>23.259407</td>\n",
       "      <td>18.0</td>\n",
       "      <td>32.5</td>\n",
       "      <td>47.0</td>\n",
       "      <td>55.5</td>\n",
       "      <td>64.0</td>\n",
       "    </tr>\n",
       "    <tr>\n",
       "      <th>siyah</th>\n",
       "      <td>3.0</td>\n",
       "      <td>20.000000</td>\n",
       "      <td>4.358899</td>\n",
       "      <td>15.0</td>\n",
       "      <td>18.5</td>\n",
       "      <td>22.0</td>\n",
       "      <td>22.5</td>\n",
       "      <td>23.0</td>\n",
       "      <td>3.0</td>\n",
       "      <td>53.000000</td>\n",
       "      <td>13.114877</td>\n",
       "      <td>39.0</td>\n",
       "      <td>47.0</td>\n",
       "      <td>55.0</td>\n",
       "      <td>60.0</td>\n",
       "      <td>65.0</td>\n",
       "    </tr>\n",
       "    <tr>\n",
       "      <th>yesil</th>\n",
       "      <td>3.0</td>\n",
       "      <td>32.000000</td>\n",
       "      <td>20.808652</td>\n",
       "      <td>19.0</td>\n",
       "      <td>20.0</td>\n",
       "      <td>21.0</td>\n",
       "      <td>38.5</td>\n",
       "      <td>56.0</td>\n",
       "      <td>3.0</td>\n",
       "      <td>83.000000</td>\n",
       "      <td>8.185353</td>\n",
       "      <td>76.0</td>\n",
       "      <td>78.5</td>\n",
       "      <td>81.0</td>\n",
       "      <td>86.5</td>\n",
       "      <td>92.0</td>\n",
       "    </tr>\n",
       "  </tbody>\n",
       "</table>\n",
       "</div>"
      ],
      "text/plain": [
       "        deger1                                                     deger2  \\\n",
       "         count       mean        std   min   25%   50%   75%   max  count   \n",
       "renk                                                                        \n",
       "kirmizi    3.0   8.333333   4.041452   4.0   6.5   9.0  10.5  12.0    3.0   \n",
       "mavi       3.0  28.666667  29.143324   8.0  12.0  16.0  39.0  62.0    3.0   \n",
       "siyah      3.0  20.000000   4.358899  15.0  18.5  22.0  22.5  23.0    3.0   \n",
       "yesil      3.0  32.000000  20.808652  19.0  20.0  21.0  38.5  56.0    3.0   \n",
       "\n",
       "                                                             \n",
       "              mean        std   min   25%   50%   75%   max  \n",
       "renk                                                         \n",
       "kirmizi  18.666667   5.507571  15.0  15.5  16.0  20.5  25.0  \n",
       "mavi     43.000000  23.259407  18.0  32.5  47.0  55.5  64.0  \n",
       "siyah    53.000000  13.114877  39.0  47.0  55.0  60.0  65.0  \n",
       "yesil    83.000000   8.185353  76.0  78.5  81.0  86.5  92.0  "
      ]
     },
     "execution_count": 17,
     "metadata": {},
     "output_type": "execute_result"
    }
   ],
   "source": [
    "df.groupby(df['renk']).describe()"
   ]
  },
  {
   "cell_type": "code",
   "execution_count": 18,
   "metadata": {},
   "outputs": [
    {
     "data": {
      "text/html": [
       "<div>\n",
       "<style scoped>\n",
       "    .dataframe tbody tr th:only-of-type {\n",
       "        vertical-align: middle;\n",
       "    }\n",
       "\n",
       "    .dataframe tbody tr th {\n",
       "        vertical-align: top;\n",
       "    }\n",
       "\n",
       "    .dataframe thead th {\n",
       "        text-align: right;\n",
       "    }\n",
       "</style>\n",
       "<table border=\"1\" class=\"dataframe\">\n",
       "  <thead>\n",
       "    <tr style=\"text-align: right;\">\n",
       "      <th></th>\n",
       "      <th>deger1</th>\n",
       "      <th>deger2</th>\n",
       "      <th>gün</th>\n",
       "      <th>renk</th>\n",
       "      <th>isim</th>\n",
       "    </tr>\n",
       "  </thead>\n",
       "  <tbody>\n",
       "    <tr>\n",
       "      <th>0</th>\n",
       "      <td>12</td>\n",
       "      <td>15</td>\n",
       "      <td>pazartesi</td>\n",
       "      <td>kirmizi</td>\n",
       "      <td>berk</td>\n",
       "    </tr>\n",
       "    <tr>\n",
       "      <th>1</th>\n",
       "      <td>4</td>\n",
       "      <td>16</td>\n",
       "      <td>sali</td>\n",
       "      <td>kirmizi</td>\n",
       "      <td>theresa</td>\n",
       "    </tr>\n",
       "    <tr>\n",
       "      <th>2</th>\n",
       "      <td>9</td>\n",
       "      <td>25</td>\n",
       "      <td>carsamba</td>\n",
       "      <td>kirmizi</td>\n",
       "      <td>melih</td>\n",
       "    </tr>\n",
       "    <tr>\n",
       "      <th>3</th>\n",
       "      <td>15</td>\n",
       "      <td>65</td>\n",
       "      <td>pazartesi</td>\n",
       "      <td>siyah</td>\n",
       "      <td>alina</td>\n",
       "    </tr>\n",
       "    <tr>\n",
       "      <th>4</th>\n",
       "      <td>23</td>\n",
       "      <td>55</td>\n",
       "      <td>sali</td>\n",
       "      <td>siyah</td>\n",
       "      <td>ibo</td>\n",
       "    </tr>\n",
       "    <tr>\n",
       "      <th>5</th>\n",
       "      <td>22</td>\n",
       "      <td>39</td>\n",
       "      <td>carsamba</td>\n",
       "      <td>siyah</td>\n",
       "      <td>kaan</td>\n",
       "    </tr>\n",
       "    <tr>\n",
       "      <th>6</th>\n",
       "      <td>16</td>\n",
       "      <td>18</td>\n",
       "      <td>pazartesi</td>\n",
       "      <td>mavi</td>\n",
       "      <td>berk</td>\n",
       "    </tr>\n",
       "    <tr>\n",
       "      <th>7</th>\n",
       "      <td>8</td>\n",
       "      <td>47</td>\n",
       "      <td>sali</td>\n",
       "      <td>mavi</td>\n",
       "      <td>theresa</td>\n",
       "    </tr>\n",
       "    <tr>\n",
       "      <th>8</th>\n",
       "      <td>62</td>\n",
       "      <td>64</td>\n",
       "      <td>carsamba</td>\n",
       "      <td>mavi</td>\n",
       "      <td>melih</td>\n",
       "    </tr>\n",
       "    <tr>\n",
       "      <th>9</th>\n",
       "      <td>19</td>\n",
       "      <td>81</td>\n",
       "      <td>pazartesi</td>\n",
       "      <td>yesil</td>\n",
       "      <td>alina</td>\n",
       "    </tr>\n",
       "    <tr>\n",
       "      <th>10</th>\n",
       "      <td>21</td>\n",
       "      <td>92</td>\n",
       "      <td>sali</td>\n",
       "      <td>yesil</td>\n",
       "      <td>ibo</td>\n",
       "    </tr>\n",
       "    <tr>\n",
       "      <th>11</th>\n",
       "      <td>56</td>\n",
       "      <td>76</td>\n",
       "      <td>carsamba</td>\n",
       "      <td>yesil</td>\n",
       "      <td>kaan</td>\n",
       "    </tr>\n",
       "  </tbody>\n",
       "</table>\n",
       "</div>"
      ],
      "text/plain": [
       "    deger1  deger2        gün     renk     isim\n",
       "0       12      15  pazartesi  kirmizi     berk\n",
       "1        4      16       sali  kirmizi  theresa\n",
       "2        9      25   carsamba  kirmizi    melih\n",
       "3       15      65  pazartesi    siyah    alina\n",
       "4       23      55       sali    siyah      ibo\n",
       "5       22      39   carsamba    siyah     kaan\n",
       "6       16      18  pazartesi     mavi     berk\n",
       "7        8      47       sali     mavi  theresa\n",
       "8       62      64   carsamba     mavi    melih\n",
       "9       19      81  pazartesi    yesil    alina\n",
       "10      21      92       sali    yesil      ibo\n",
       "11      56      76   carsamba    yesil     kaan"
      ]
     },
     "execution_count": 18,
     "metadata": {},
     "output_type": "execute_result"
    }
   ],
   "source": [
    "df"
   ]
  },
  {
   "cell_type": "code",
   "execution_count": 19,
   "metadata": {},
   "outputs": [
    {
     "data": {
      "text/plain": [
       "{'kirmizi': Int64Index([0, 1, 2], dtype='int64'),\n",
       " 'mavi': Int64Index([6, 7, 8], dtype='int64'),\n",
       " 'siyah': Int64Index([3, 4, 5], dtype='int64'),\n",
       " 'yesil': Int64Index([9, 10, 11], dtype='int64')}"
      ]
     },
     "execution_count": 19,
     "metadata": {},
     "output_type": "execute_result"
    }
   ],
   "source": [
    "df.groupby('renk').groups"
   ]
  },
  {
   "cell_type": "code",
   "execution_count": 20,
   "metadata": {},
   "outputs": [
    {
     "name": "stdout",
     "output_type": "stream",
     "text": [
      "Bu kirmizi grubudur\n",
      "   deger1  deger2        gün     renk     isim\n",
      "0      12      15  pazartesi  kirmizi     berk\n",
      "1       4      16       sali  kirmizi  theresa\n",
      "2       9      25   carsamba  kirmizi    melih\n",
      "\n",
      "\n",
      "Bu mavi grubudur\n",
      "   deger1  deger2        gün  renk     isim\n",
      "6      16      18  pazartesi  mavi     berk\n",
      "7       8      47       sali  mavi  theresa\n",
      "8      62      64   carsamba  mavi    melih\n",
      "\n",
      "\n",
      "Bu siyah grubudur\n",
      "   deger1  deger2        gün   renk   isim\n",
      "3      15      65  pazartesi  siyah  alina\n",
      "4      23      55       sali  siyah    ibo\n",
      "5      22      39   carsamba  siyah   kaan\n",
      "\n",
      "\n",
      "Bu yesil grubudur\n",
      "    deger1  deger2        gün   renk   isim\n",
      "9       19      81  pazartesi  yesil  alina\n",
      "10      21      92       sali  yesil    ibo\n",
      "11      56      76   carsamba  yesil   kaan\n",
      "\n",
      "\n"
     ]
    }
   ],
   "source": [
    "for renk_adi, grup in df.groupby('renk'):\n",
    "    print('Bu %s grubudur' %renk_adi)\n",
    "    print(grup)\n",
    "    print('\\n')"
   ]
  },
  {
   "cell_type": "code",
   "execution_count": 28,
   "metadata": {},
   "outputs": [
    {
     "data": {
      "text/plain": [
       "{'carsamba': Int64Index([2, 5, 8, 11], dtype='int64'),\n",
       " 'pazartesi': Int64Index([0, 3, 6, 9], dtype='int64'),\n",
       " 'sali': Int64Index([1, 4, 7, 10], dtype='int64')}"
      ]
     },
     "execution_count": 28,
     "metadata": {},
     "output_type": "execute_result"
    }
   ],
   "source": [
    "df.groupby('gün').groups"
   ]
  },
  {
   "cell_type": "code",
   "execution_count": null,
   "metadata": {},
   "outputs": [],
   "source": []
  },
  {
   "cell_type": "code",
   "execution_count": 26,
   "metadata": {},
   "outputs": [
    {
     "name": "stdout",
     "output_type": "stream",
     "text": [
      "bu carsamba grubudur\n",
      "    deger1  deger2       gün     renk   isim\n",
      "2        9      25  carsamba  kirmizi  melih\n",
      "5       22      39  carsamba    siyah   kaan\n",
      "8       62      64  carsamba     mavi  melih\n",
      "11      56      76  carsamba    yesil   kaan\n",
      "\n",
      "\n",
      "bu pazartesi grubudur\n",
      "   deger1  deger2        gün     renk   isim\n",
      "0      12      15  pazartesi  kirmizi   berk\n",
      "3      15      65  pazartesi    siyah  alina\n",
      "6      16      18  pazartesi     mavi   berk\n",
      "9      19      81  pazartesi    yesil  alina\n",
      "\n",
      "\n",
      "bu sali grubudur\n",
      "    deger1  deger2   gün     renk     isim\n",
      "1        4      16  sali  kirmizi  theresa\n",
      "4       23      55  sali    siyah      ibo\n",
      "7        8      47  sali     mavi  theresa\n",
      "10      21      92  sali    yesil      ibo\n",
      "\n",
      "\n"
     ]
    }
   ],
   "source": [
    "for gun_adi, grup in df.groupby('gün'):\n",
    "    print('bu %s grubudur' %gun_adi)\n",
    "    print(grup)\n",
    "    print('\\n')"
   ]
  },
  {
   "cell_type": "code",
   "execution_count": null,
   "metadata": {},
   "outputs": [],
   "source": []
  }
 ],
 "metadata": {
  "kernelspec": {
   "display_name": "Python 3",
   "language": "python",
   "name": "python3"
  },
  "language_info": {
   "codemirror_mode": {
    "name": "ipython",
    "version": 3
   },
   "file_extension": ".py",
   "mimetype": "text/x-python",
   "name": "python",
   "nbconvert_exporter": "python",
   "pygments_lexer": "ipython3",
   "version": "3.8.3"
  }
 },
 "nbformat": 4,
 "nbformat_minor": 4
}
