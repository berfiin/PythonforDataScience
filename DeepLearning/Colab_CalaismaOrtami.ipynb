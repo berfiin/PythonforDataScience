{
  "nbformat": 4,
  "nbformat_minor": 0,
  "metadata": {
    "colab": {
      "name": "Colab_CalaismaOrtami.ipynb",
      "provenance": [],
      "collapsed_sections": []
    },
    "kernelspec": {
      "name": "python3",
      "display_name": "Python 3"
    },
    "accelerator": "GPU"
  },
  "cells": [
    {
      "cell_type": "code",
      "metadata": {
        "id": "FsR11yhIz2Sc"
      },
      "source": [
        ""
      ],
      "execution_count": null,
      "outputs": []
    },
    {
      "cell_type": "markdown",
      "metadata": {
        "id": "pMDPaIwO0e76"
      },
      "source": [
        "Google Çalisma ortami\n"
      ]
    },
    {
      "cell_type": "markdown",
      "metadata": {
        "id": "XEXrT58K0qDI"
      },
      "source": [
        "# Merhaba"
      ]
    },
    {
      "cell_type": "code",
      "metadata": {
        "id": "EVJpbDO80vfX",
        "outputId": "c4daeed6-be4f-490b-97ed-9ebd99113001",
        "colab": {
          "base_uri": "https://localhost:8080/",
          "height": 50
        }
      },
      "source": [
        "from google.colab import drive\n",
        "drive.mount('/gdrive')\n",
        "%cd /gdrive"
      ],
      "execution_count": null,
      "outputs": [
        {
          "output_type": "stream",
          "text": [
            "Mounted at /gdrive\n",
            "/gdrive\n"
          ],
          "name": "stdout"
        }
      ]
    },
    {
      "cell_type": "code",
      "metadata": {
        "id": "bRj5aJgNcn85",
        "outputId": "3afaecfa-db08-459c-904d-edf70c9c6406",
        "colab": {
          "base_uri": "https://localhost:8080/",
          "height": 34
        }
      },
      "source": [
        "!ls \"/gdrive/My Drive/Calisma_Ortami/\""
      ],
      "execution_count": null,
      "outputs": [
        {
          "output_type": "stream",
          "text": [
            "Colab_CalaismaOrtami.ipynb\n"
          ],
          "name": "stdout"
        }
      ]
    },
    {
      "cell_type": "markdown",
      "metadata": {
        "id": "8N2VR39KfEle"
      },
      "source": [
        "## Kütüphane kurulumları\n",
        "\n"
      ]
    },
    {
      "cell_type": "code",
      "metadata": {
        "id": "3Y0HKURJfK1C"
      },
      "source": [
        "!pip install -q keras\n",
        "\n",
        "import keras\n"
      ],
      "execution_count": null,
      "outputs": []
    },
    {
      "cell_type": "code",
      "metadata": {
        "id": "KdjoknBgfYTc",
        "outputId": "5e0da6d1-7bca-4ae6-869a-11f18c0fb3a2",
        "colab": {
          "base_uri": "https://localhost:8080/",
          "height": 101
        }
      },
      "source": [
        "!apt-get install graphviz -y #bu sekilde de kurabiliriz"
      ],
      "execution_count": null,
      "outputs": [
        {
          "output_type": "stream",
          "text": [
            "Reading package lists... Done\n",
            "Building dependency tree       \n",
            "Reading state information... Done\n",
            "graphviz is already the newest version (2.40.1-2).\n",
            "0 upgraded, 0 newly installed, 0 to remove and 21 not upgraded.\n"
          ],
          "name": "stdout"
        }
      ]
    },
    {
      "cell_type": "code",
      "metadata": {
        "id": "5sCmKTvIfjHZ"
      },
      "source": [
        ""
      ],
      "execution_count": null,
      "outputs": []
    },
    {
      "cell_type": "markdown",
      "metadata": {
        "id": "n_sgHspEftt3"
      },
      "source": [
        "GPU ÖZELLİKLERİ GÖRÜNTÜLENMESİ\n",
        "\n"
      ]
    },
    {
      "cell_type": "code",
      "metadata": {
        "id": "5yNMNPKVfyXF",
        "outputId": "2ea229cf-8341-4365-9012-c633d5335dd3",
        "colab": {
          "base_uri": "https://localhost:8080/",
          "height": 35
        }
      },
      "source": [
        "import tensorflow as tf\n",
        "tf.test.gpu_device_name()"
      ],
      "execution_count": null,
      "outputs": [
        {
          "output_type": "execute_result",
          "data": {
            "application/vnd.google.colaboratory.intrinsic+json": {
              "type": "string"
            },
            "text/plain": [
              "'/device:GPU:0'"
            ]
          },
          "metadata": {
            "tags": []
          },
          "execution_count": 1
        }
      ]
    },
    {
      "cell_type": "code",
      "metadata": {
        "id": "QYpLefRwf2rx"
      },
      "source": [
        "import tensorflow_hub as hub"
      ],
      "execution_count": null,
      "outputs": []
    },
    {
      "cell_type": "code",
      "metadata": {
        "id": "Xb0p7xBOgFts",
        "outputId": "cd3b156e-0a9a-4f3e-a7b2-97379663c969",
        "colab": {
          "base_uri": "https://localhost:8080/",
          "height": 138
        }
      },
      "source": [
        "print(\"TF version:\", tf.__version__)\n",
        "print(\"hub version:\", hub.__version__)\n",
        "print(\"gpu is\", \"available\" if tf.test.is_gpu_available() else \"not available\")\n"
      ],
      "execution_count": null,
      "outputs": [
        {
          "output_type": "stream",
          "text": [
            "TF version: 2.3.0\n",
            "hub version: 0.9.0\n",
            "WARNING:tensorflow:From <ipython-input-3-9156d97f99c2>:3: is_gpu_available (from tensorflow.python.framework.test_util) is deprecated and will be removed in a future version.\n",
            "Instructions for updating:\n",
            "Use `tf.config.list_physical_devices('GPU')` instead.\n",
            "gpu is available\n"
          ],
          "name": "stdout"
        }
      ]
    },
    {
      "cell_type": "code",
      "metadata": {
        "id": "oV_8Q0c7gprr",
        "outputId": "16f31ffa-a0e6-478e-f414-ed4c8ed153a7",
        "colab": {
          "base_uri": "https://localhost:8080/",
          "height": 490
        }
      },
      "source": [
        "from tensorflow.python.client import  device_lib\n",
        "device_lib.list_local_devices()"
      ],
      "execution_count": null,
      "outputs": [
        {
          "output_type": "execute_result",
          "data": {
            "text/plain": [
              "[name: \"/device:CPU:0\"\n",
              " device_type: \"CPU\"\n",
              " memory_limit: 268435456\n",
              " locality {\n",
              " }\n",
              " incarnation: 15180157301106605774, name: \"/device:XLA_CPU:0\"\n",
              " device_type: \"XLA_CPU\"\n",
              " memory_limit: 17179869184\n",
              " locality {\n",
              " }\n",
              " incarnation: 6969354052080490033\n",
              " physical_device_desc: \"device: XLA_CPU device\", name: \"/device:XLA_GPU:0\"\n",
              " device_type: \"XLA_GPU\"\n",
              " memory_limit: 17179869184\n",
              " locality {\n",
              " }\n",
              " incarnation: 10875283974433174432\n",
              " physical_device_desc: \"device: XLA_GPU device\", name: \"/device:GPU:0\"\n",
              " device_type: \"GPU\"\n",
              " memory_limit: 14640891840\n",
              " locality {\n",
              "   bus_id: 1\n",
              "   links {\n",
              "   }\n",
              " }\n",
              " incarnation: 16114361015897004310\n",
              " physical_device_desc: \"device: 0, name: Tesla T4, pci bus id: 0000:00:04.0, compute capability: 7.5\"]"
            ]
          },
          "metadata": {
            "tags": []
          },
          "execution_count": 4
        }
      ]
    },
    {
      "cell_type": "code",
      "metadata": {
        "id": "O1yZXsZWhhth"
      },
      "source": [
        "#!python3 rakam_tanima_CNN_MNIST.py \n",
        "#!ls\n",
        "#yeniden başlamak istediğimizde reset !kill -9 -1 yaparız uzun sürer.\n"
      ],
      "execution_count": null,
      "outputs": []
    },
    {
      "cell_type": "markdown",
      "metadata": {
        "id": "hDciUS2NbXrv"
      },
      "source": [
        "**VEKTÖRLER**"
      ]
    },
    {
      "cell_type": "code",
      "metadata": {
        "id": "xWPgF6Jfbcub"
      },
      "source": [
        "import numpy as np"
      ],
      "execution_count": 2,
      "outputs": []
    },
    {
      "cell_type": "code",
      "metadata": {
        "id": "Y9qRICXEbjeb"
      },
      "source": [
        "x = np.array(7)"
      ],
      "execution_count": 4,
      "outputs": []
    },
    {
      "cell_type": "code",
      "metadata": {
        "id": "1Y49t_6gbovF",
        "outputId": "4df78311-643f-4b6d-87c7-161815f11655",
        "colab": {
          "base_uri": "https://localhost:8080/",
          "height": 34
        }
      },
      "source": [
        "x"
      ],
      "execution_count": 5,
      "outputs": [
        {
          "output_type": "execute_result",
          "data": {
            "text/plain": [
              "array(7)"
            ]
          },
          "metadata": {
            "tags": []
          },
          "execution_count": 5
        }
      ]
    },
    {
      "cell_type": "code",
      "metadata": {
        "id": "Xq_9b7RpbqzT",
        "outputId": "0b5d2a6f-968d-45d4-8799-018d345c7e02",
        "colab": {
          "base_uri": "https://localhost:8080/",
          "height": 34
        }
      },
      "source": [
        "x.ndim"
      ],
      "execution_count": 6,
      "outputs": [
        {
          "output_type": "execute_result",
          "data": {
            "text/plain": [
              "0"
            ]
          },
          "metadata": {
            "tags": []
          },
          "execution_count": 6
        }
      ]
    },
    {
      "cell_type": "code",
      "metadata": {
        "id": "StImGMh8bs-m"
      },
      "source": [
        "x = np.array([7,14,21])"
      ],
      "execution_count": 7,
      "outputs": []
    },
    {
      "cell_type": "code",
      "metadata": {
        "id": "dfdPop77bw2O",
        "outputId": "2c19bd18-1d39-4af6-81c4-e79a878000e0",
        "colab": {
          "base_uri": "https://localhost:8080/",
          "height": 34
        }
      },
      "source": [
        "x"
      ],
      "execution_count": 8,
      "outputs": [
        {
          "output_type": "execute_result",
          "data": {
            "text/plain": [
              "array([ 7, 14, 21])"
            ]
          },
          "metadata": {
            "tags": []
          },
          "execution_count": 8
        }
      ]
    },
    {
      "cell_type": "code",
      "metadata": {
        "id": "Z4PLtip-bxz2",
        "outputId": "102af08e-c6b6-46ba-bc7f-6b7df2d627ac",
        "colab": {
          "base_uri": "https://localhost:8080/",
          "height": 34
        }
      },
      "source": [
        "x.ndim"
      ],
      "execution_count": 9,
      "outputs": [
        {
          "output_type": "execute_result",
          "data": {
            "text/plain": [
              "1"
            ]
          },
          "metadata": {
            "tags": []
          },
          "execution_count": 9
        }
      ]
    },
    {
      "cell_type": "code",
      "metadata": {
        "id": "Ej0zncW2b0V5"
      },
      "source": [
        "x =np.array([[7,14,21],\n",
        "            [7,14,21],\n",
        "            [7,14,12]])"
      ],
      "execution_count": 11,
      "outputs": []
    },
    {
      "cell_type": "code",
      "metadata": {
        "id": "JTDRl1-5cHP6",
        "outputId": "a050ce1a-d56a-4c21-9b7e-47967cdc1a97",
        "colab": {
          "base_uri": "https://localhost:8080/",
          "height": 68
        }
      },
      "source": [
        "x"
      ],
      "execution_count": 12,
      "outputs": [
        {
          "output_type": "execute_result",
          "data": {
            "text/plain": [
              "array([[ 7, 14, 21],\n",
              "       [ 7, 14, 21],\n",
              "       [ 7, 14, 12]])"
            ]
          },
          "metadata": {
            "tags": []
          },
          "execution_count": 12
        }
      ]
    },
    {
      "cell_type": "code",
      "metadata": {
        "id": "RtYL_iHdcM7O"
      },
      "source": [
        ""
      ],
      "execution_count": null,
      "outputs": []
    },
    {
      "cell_type": "markdown",
      "metadata": {
        "id": "5D1TUhaEcW_H"
      },
      "source": [
        "TENSORLER"
      ]
    },
    {
      "cell_type": "code",
      "metadata": {
        "id": "1CcNG0pccYZy"
      },
      "source": [
        "x = np.array([[[7,14,21],\n",
        "              [7,14,21]],\n",
        "              [[87,5,6],\n",
        "               [87,5,6]],\n",
        "              [[1,2,3],\n",
        "               [1,2,3]]])"
      ],
      "execution_count": 15,
      "outputs": []
    },
    {
      "cell_type": "code",
      "metadata": {
        "id": "wy1poR8DcxHB",
        "outputId": "0ce9c537-235e-432e-fc5d-d531a517e58c",
        "colab": {
          "base_uri": "https://localhost:8080/",
          "height": 153
        }
      },
      "source": [
        "x "
      ],
      "execution_count": 16,
      "outputs": [
        {
          "output_type": "execute_result",
          "data": {
            "text/plain": [
              "array([[[ 7, 14, 21],\n",
              "        [ 7, 14, 21]],\n",
              "\n",
              "       [[87,  5,  6],\n",
              "        [87,  5,  6]],\n",
              "\n",
              "       [[ 1,  2,  3],\n",
              "        [ 1,  2,  3]]])"
            ]
          },
          "metadata": {
            "tags": []
          },
          "execution_count": 16
        }
      ]
    },
    {
      "cell_type": "code",
      "metadata": {
        "id": "VupKYhFOcxkX",
        "outputId": "641b6850-b4e4-4923-c3e1-bbccaf7fb248",
        "colab": {
          "base_uri": "https://localhost:8080/",
          "height": 34
        }
      },
      "source": [
        "x.ndim#2den fazla boyut olunca tensor"
      ],
      "execution_count": 18,
      "outputs": [
        {
          "output_type": "execute_result",
          "data": {
            "text/plain": [
              "3"
            ]
          },
          "metadata": {
            "tags": []
          },
          "execution_count": 18
        }
      ]
    },
    {
      "cell_type": "code",
      "metadata": {
        "id": "M0beYyHidG21",
        "outputId": "5b8b3a75-96e7-4d2b-831d-27a507067d1a",
        "colab": {
          "base_uri": "https://localhost:8080/",
          "height": 51
        }
      },
      "source": [
        "from keras.datasets import mnist\n",
        "(train_images, train_labels), (test_images, test_labels) = mnist.load_data()"
      ],
      "execution_count": 20,
      "outputs": [
        {
          "output_type": "stream",
          "text": [
            "Downloading data from https://storage.googleapis.com/tensorflow/tf-keras-datasets/mnist.npz\n",
            "11493376/11490434 [==============================] - 0s 0us/step\n"
          ],
          "name": "stdout"
        }
      ]
    },
    {
      "cell_type": "code",
      "metadata": {
        "id": "ApTy64JIdS3B",
        "outputId": "2b02d26f-a4be-43cc-866d-64457cd8672f",
        "colab": {
          "base_uri": "https://localhost:8080/",
          "height": 34
        }
      },
      "source": [
        "print(train_images.ndim)"
      ],
      "execution_count": 21,
      "outputs": [
        {
          "output_type": "stream",
          "text": [
            "3\n"
          ],
          "name": "stdout"
        }
      ]
    },
    {
      "cell_type": "code",
      "metadata": {
        "id": "LatNg6E4dk_N",
        "outputId": "c874d1e1-e35d-4796-dfff-98e183c6a397",
        "colab": {
          "base_uri": "https://localhost:8080/",
          "height": 34
        }
      },
      "source": [
        "print(train_images.shape)"
      ],
      "execution_count": 22,
      "outputs": [
        {
          "output_type": "stream",
          "text": [
            "(60000, 28, 28)\n"
          ],
          "name": "stdout"
        }
      ]
    },
    {
      "cell_type": "code",
      "metadata": {
        "id": "rRm7q3I9doQQ",
        "outputId": "344a9bc4-8440-4375-c92f-c77534a34200",
        "colab": {
          "base_uri": "https://localhost:8080/",
          "height": 51
        }
      },
      "source": [
        "print(test_images.ndim)\n",
        "print(test_images.shape)"
      ],
      "execution_count": 23,
      "outputs": [
        {
          "output_type": "stream",
          "text": [
            "3\n",
            "(10000, 28, 28)\n"
          ],
          "name": "stdout"
        }
      ]
    },
    {
      "cell_type": "code",
      "metadata": {
        "id": "4xu93flOdvek",
        "outputId": "22080665-2a05-407c-f67f-3a541fb2b0fa",
        "colab": {
          "base_uri": "https://localhost:8080/",
          "height": 34
        }
      },
      "source": [
        "print(train_images.dtype)"
      ],
      "execution_count": 24,
      "outputs": [
        {
          "output_type": "stream",
          "text": [
            "uint8\n"
          ],
          "name": "stdout"
        }
      ]
    },
    {
      "cell_type": "code",
      "metadata": {
        "id": "BmyIm8Wbd1na"
      },
      "source": [
        "digit = train_images[7] "
      ],
      "execution_count": 25,
      "outputs": []
    },
    {
      "cell_type": "code",
      "metadata": {
        "id": "O3nZe8DLd5YN",
        "outputId": "4f8f0059-01b4-4e92-8c20-2e1a6b86037a",
        "colab": {
          "base_uri": "https://localhost:8080/",
          "height": 264
        }
      },
      "source": [
        "import matplotlib.pyplot as plt\n",
        "plt.imshow(digit, cmap=plt.cm.binary)\n",
        "plt.show()"
      ],
      "execution_count": 29,
      "outputs": [
        {
          "output_type": "display_data",
          "data": {
            "image/png": "[encoded data removed]",
            "text/plain": [
              "<Figure size 432x288 with 1 Axes>"
            ]
          },
          "metadata": {
            "tags": [],
            "needs_background": "light"
          }
        }
      ]
    },
    {
      "cell_type": "code",
      "metadata": {
        "id": "BU1xY37ceDwl"
      },
      "source": [
        "dizinim = train_images[7:77]"
      ],
      "execution_count": 30,
      "outputs": []
    },
    {
      "cell_type": "code",
      "metadata": {
        "id": "ftR1DUIWeayB",
        "outputId": "fbdf5eca-5ef8-4b62-d937-9afaadeaf06f",
        "colab": {
          "base_uri": "https://localhost:8080/",
          "height": 34
        }
      },
      "source": [
        "print(dizinim.shape)"
      ],
      "execution_count": 31,
      "outputs": [
        {
          "output_type": "stream",
          "text": [
            "(70, 28, 28)\n"
          ],
          "name": "stdout"
        }
      ]
    },
    {
      "cell_type": "code",
      "metadata": {
        "id": "go5sFNa6eeN5"
      },
      "source": [
        "dizinim = train_images[7:77, :, :]"
      ],
      "execution_count": 32,
      "outputs": []
    },
    {
      "cell_type": "code",
      "metadata": {
        "id": "paguzoJgepZf",
        "outputId": "770e285f-a476-4a2a-ae9a-167308e5aada",
        "colab": {
          "base_uri": "https://localhost:8080/",
          "height": 34
        }
      },
      "source": [
        "dizinim.shape\n"
      ],
      "execution_count": 33,
      "outputs": [
        {
          "output_type": "execute_result",
          "data": {
            "text/plain": [
              "(70, 28, 28)"
            ]
          },
          "metadata": {
            "tags": []
          },
          "execution_count": 33
        }
      ]
    },
    {
      "cell_type": "code",
      "metadata": {
        "id": "etcvdNhAerDe"
      },
      "source": [
        "dizinim = train_images[7:77, 0:14, 0:14] #7 den 77 olan görselleri boyut ve genişlikte alabiliriz."
      ],
      "execution_count": 34,
      "outputs": []
    },
    {
      "cell_type": "code",
      "metadata": {
        "id": "WwWciggBeydZ",
        "outputId": "56bc54ec-7446-455d-cef9-99bdcdc43eae",
        "colab": {
          "base_uri": "https://localhost:8080/",
          "height": 34
        }
      },
      "source": [
        "dizinim.shape"
      ],
      "execution_count": 35,
      "outputs": [
        {
          "output_type": "execute_result",
          "data": {
            "text/plain": [
              "(70, 14, 14)"
            ]
          },
          "metadata": {
            "tags": []
          },
          "execution_count": 35
        }
      ]
    },
    {
      "cell_type": "code",
      "metadata": {
        "id": "CW_ow_2xezhJ"
      },
      "source": [
        ""
      ],
      "execution_count": null,
      "outputs": []
    },
    {
      "cell_type": "markdown",
      "metadata": {
        "id": "2ovxnMeSfFhi"
      },
      "source": [
        "# **İŞLEMLER**"
      ]
    },
    {
      "cell_type": "markdown",
      "metadata": {
        "id": "tdhx0iYDfMLZ"
      },
      "source": [
        "* Eleman Temelli\n"
      ]
    },
    {
      "cell_type": "markdown",
      "metadata": {
        "id": "sQNhynEdfX0o"
      },
      "source": [
        "Bu işlemler tensörün her elemanına ayrı ayrı uygulanır."
      ]
    },
    {
      "cell_type": "code",
      "metadata": {
        "id": "NAvnp3kXfYjh"
      },
      "source": [
        "def naive_add(x, y):\n",
        "  assert len(x.shape) == 2 # x ve y 2 boyutlu numpy tensörü\n",
        "  assert x.shape == y.shape\n",
        "\n",
        "  x = x.copy() #aynı işlemi giren tensor üzerine tanımlamak için\n",
        "\n",
        "  for i in range(x.shape[1]):\n",
        "    for j in range(x.shape[1]):\n",
        "      x[i, j] += y[i, j]\n",
        "      return x"
      ],
      "execution_count": 37,
      "outputs": []
    },
    {
      "cell_type": "code",
      "metadata": {
        "id": "29SNDiASfnLn"
      },
      "source": [
        "x = np.array([[7,14,21],\n",
        "              [7,14,21],\n",
        "              [1,2,3]])\n",
        "\n",
        "y = np.array([[2,2,2],\n",
        "              [3,3,3],\n",
        "              [5,5,5]])\n"
      ],
      "execution_count": 39,
      "outputs": []
    },
    {
      "cell_type": "code",
      "metadata": {
        "id": "wXSYcXjvgcja"
      },
      "source": [
        "z = naive_add(x,y)"
      ],
      "execution_count": 40,
      "outputs": []
    },
    {
      "cell_type": "code",
      "metadata": {
        "id": "-KjpXq4og6Sc",
        "outputId": "44e226d7-ff7a-49d0-fd68-bc0bb1d6cb41",
        "colab": {
          "base_uri": "https://localhost:8080/",
          "height": 68
        }
      },
      "source": [
        "z"
      ],
      "execution_count": 41,
      "outputs": [
        {
          "output_type": "execute_result",
          "data": {
            "text/plain": [
              "array([[ 9, 14, 21],\n",
              "       [ 7, 14, 21],\n",
              "       [ 1,  2,  3]])"
            ]
          },
          "metadata": {
            "tags": []
          },
          "execution_count": 41
        }
      ]
    },
    {
      "cell_type": "code",
      "metadata": {
        "id": "lvLPeJ0vg67T"
      },
      "source": [
        "import numpy as np #import numpy kullanınca yukarıdakilere gerek kalmıyor."
      ],
      "execution_count": 42,
      "outputs": []
    },
    {
      "cell_type": "code",
      "metadata": {
        "id": "HehZFDT1g_pJ"
      },
      "source": [
        "x = np.array([[7,14,21],\n",
        "              [7,14,21],\n",
        "              [1,2,3]])\n",
        "\n",
        "y = np.array([[2,2,2],\n",
        "              [3,3,3],\n",
        "              [5,5,5]])"
      ],
      "execution_count": 43,
      "outputs": []
    },
    {
      "cell_type": "code",
      "metadata": {
        "id": "pSbIegRIhD_g"
      },
      "source": [
        "z = x+y"
      ],
      "execution_count": 44,
      "outputs": []
    },
    {
      "cell_type": "code",
      "metadata": {
        "id": "obl7PEDghFcz",
        "outputId": "2ec2e006-9c06-4853-e59b-093e88a704ab",
        "colab": {
          "base_uri": "https://localhost:8080/",
          "height": 68
        }
      },
      "source": [
        "z"
      ],
      "execution_count": 45,
      "outputs": [
        {
          "output_type": "execute_result",
          "data": {
            "text/plain": [
              "array([[ 9, 16, 23],\n",
              "       [10, 17, 24],\n",
              "       [ 6,  7,  8]])"
            ]
          },
          "metadata": {
            "tags": []
          },
          "execution_count": 45
        }
      ]
    },
    {
      "cell_type": "code",
      "metadata": {
        "id": "TBRlgaadhGFQ"
      },
      "source": [
        "def naive_relu(x):\n",
        "  assert len(x.shape) == 2 # x ve y 2 boyutlu numpy tensörü\n",
        "  assert x.shape == y.shape\n",
        "\n",
        "  x = x.copy() #aynı işlemi giren tensor üzerine tanımlamak için\n",
        "\n",
        "  for i in range(x.shape[0]):\n",
        "    for j in range(x.shape[0]):\n",
        "      x[i, j] = max(x[i, j],0)\n",
        "      return x"
      ],
      "execution_count": 51,
      "outputs": []
    },
    {
      "cell_type": "code",
      "metadata": {
        "id": "0OnwypjHhfLg"
      },
      "source": [
        "x = np.array([[7,14,21],\n",
        "              [7,14,21],\n",
        "              [1,2,3]])\n",
        "\n",
        "y = np.array([[2,2,2],\n",
        "              [3,3,3],\n",
        "              [5,5,5]])"
      ],
      "execution_count": 47,
      "outputs": []
    },
    {
      "cell_type": "code",
      "metadata": {
        "id": "wOcMnkjAhje-"
      },
      "source": [
        "z = naive_relu(x)"
      ],
      "execution_count": 56,
      "outputs": []
    },
    {
      "cell_type": "code",
      "metadata": {
        "id": "4JJXi8_EhmD6",
        "outputId": "a9924852-1c5a-4550-de1f-07a845325386",
        "colab": {
          "base_uri": "https://localhost:8080/",
          "height": 68
        }
      },
      "source": [
        "z"
      ],
      "execution_count": 57,
      "outputs": [
        {
          "output_type": "execute_result",
          "data": {
            "text/plain": [
              "array([[ 7, 14, 21],\n",
              "       [ 7, 14, 21],\n",
              "       [ 1,  2,  3]])"
            ]
          },
          "metadata": {
            "tags": []
          },
          "execution_count": 57
        }
      ]
    },
    {
      "cell_type": "code",
      "metadata": {
        "id": "pBlGRBTchmlw"
      },
      "source": [
        "import numpy as np"
      ],
      "execution_count": 53,
      "outputs": []
    },
    {
      "cell_type": "code",
      "metadata": {
        "id": "_j6ZZRGkiEYz"
      },
      "source": [
        "z = np.maximum(x,0.)"
      ],
      "execution_count": 54,
      "outputs": []
    },
    {
      "cell_type": "code",
      "metadata": {
        "id": "c88ReAZOiHxi",
        "outputId": "468f51b5-1b3d-443f-dab5-724854db11a3",
        "colab": {
          "base_uri": "https://localhost:8080/",
          "height": 68
        }
      },
      "source": [
        "z"
      ],
      "execution_count": 55,
      "outputs": [
        {
          "output_type": "execute_result",
          "data": {
            "text/plain": [
              "array([[ 7., 14., 21.],\n",
              "       [ 7., 14., 21.],\n",
              "       [ 1.,  2.,  3.]])"
            ]
          },
          "metadata": {
            "tags": []
          },
          "execution_count": 55
        }
      ]
    },
    {
      "cell_type": "markdown",
      "metadata": {
        "id": "avN663JNiceX"
      },
      "source": [
        "yayma işlemi"
      ]
    },
    {
      "cell_type": "code",
      "metadata": {
        "id": "bNPZ8e7gie1U"
      },
      "source": [
        "def naive_add_matrix_and_vector(x, y):\n",
        "        assert len(x.shape) == 2\n",
        "        assert len(y.shape) == 1\n",
        "        assert x.shape[1] == y.shape[0]\n",
        "\n",
        "        x = x.copy()\n",
        "\n",
        "        for i in range(x.shape[0]):\n",
        "          for j in range(x.shape[1]):\n",
        "            x[i, j] += y[j]\n",
        "            return x"
      ],
      "execution_count": 63,
      "outputs": []
    },
    {
      "cell_type": "code",
      "metadata": {
        "id": "utVKBxJsjKTw"
      },
      "source": [
        "x = np.array([[7,14,21],\n",
        "              [7,14,21],\n",
        "              [1,2,3]])\n",
        "\n",
        "y = np.array([2,2,2])\n",
        "\n",
        "z  = naive_add_matrix_and_vector(x, y)"
      ],
      "execution_count": 66,
      "outputs": []
    },
    {
      "cell_type": "code",
      "metadata": {
        "id": "skvFUVuFkHwv",
        "outputId": "9d0f56df-ca70-41f4-d9db-b7af69d30bbb",
        "colab": {
          "base_uri": "https://localhost:8080/",
          "height": 68
        }
      },
      "source": [
        "z"
      ],
      "execution_count": 67,
      "outputs": [
        {
          "output_type": "execute_result",
          "data": {
            "text/plain": [
              "array([[ 9, 14, 21],\n",
              "       [ 7, 14, 21],\n",
              "       [ 1,  2,  3]])"
            ]
          },
          "metadata": {
            "tags": []
          },
          "execution_count": 67
        }
      ]
    },
    {
      "cell_type": "code",
      "metadata": {
        "id": "PPG607bKkIk_"
      },
      "source": [
        "import numpy as np\n"
      ],
      "execution_count": 68,
      "outputs": []
    },
    {
      "cell_type": "code",
      "metadata": {
        "id": "_8Cc5ac4kR-q",
        "outputId": "bbce8e46-3788-4af8-a99b-67cd8f217974",
        "colab": {
          "base_uri": "https://localhost:8080/",
          "height": 34
        }
      },
      "source": [
        "x = np.random.random((64, 3, 32, 10))\n",
        "y = np.random.random((32, 10))\n",
        "\n",
        "z = np.maximum(x, y)\n",
        "z.shape"
      ],
      "execution_count": 69,
      "outputs": [
        {
          "output_type": "execute_result",
          "data": {
            "text/plain": [
              "(64, 3, 32, 10)"
            ]
          },
          "metadata": {
            "tags": []
          },
          "execution_count": 69
        }
      ]
    },
    {
      "cell_type": "code",
      "metadata": {
        "id": "v2FpL5c8knkC"
      },
      "source": [
        ""
      ],
      "execution_count": null,
      "outputs": []
    },
    {
      "cell_type": "markdown",
      "metadata": {
        "id": "JclmjTmgk59C"
      },
      "source": [
        "* İç Çarpım İşlemi"
      ]
    },
    {
      "cell_type": "code",
      "metadata": {
        "id": "89j8PLvsk9U0"
      },
      "source": [
        "import numpy as np\n",
        "\n",
        "x = np.array([[1, 2],\n",
        "             [1, 2]])\n",
        "\n",
        "y = np.array([[1,2,],\n",
        "             [1, 2]])\n",
        "\n",
        "z = np.dot(x, y)"
      ],
      "execution_count": 74,
      "outputs": []
    },
    {
      "cell_type": "code",
      "metadata": {
        "id": "dNS6YY9tlP7Z",
        "outputId": "0c53747f-6ac9-4fd7-a4fe-5ecfd90487be",
        "colab": {
          "base_uri": "https://localhost:8080/",
          "height": 50
        }
      },
      "source": [
        "z"
      ],
      "execution_count": 76,
      "outputs": [
        {
          "output_type": "execute_result",
          "data": {
            "text/plain": [
              "array([[3, 6],\n",
              "       [3, 6]])"
            ]
          },
          "metadata": {
            "tags": []
          },
          "execution_count": 76
        }
      ]
    },
    {
      "cell_type": "code",
      "metadata": {
        "id": "cvQP1VDClQTL"
      },
      "source": [
        ""
      ],
      "execution_count": null,
      "outputs": []
    },
    {
      "cell_type": "markdown",
      "metadata": {
        "id": "HjOBkwjIloGN"
      },
      "source": [
        "* Kanal / Şekil Değiştirme"
      ]
    },
    {
      "cell_type": "code",
      "metadata": {
        "id": "AVlRtYEslrbB",
        "outputId": "75d890de-0a2e-4e2c-d9de-9e9473788e98",
        "colab": {
          "base_uri": "https://localhost:8080/",
          "height": 34
        }
      },
      "source": [
        "x = np.array([[0., 1.],\n",
        "             [2., 3.],\n",
        "             [4., 5.]])\n",
        "x.shape"
      ],
      "execution_count": 79,
      "outputs": [
        {
          "output_type": "execute_result",
          "data": {
            "text/plain": [
              "(3, 2)"
            ]
          },
          "metadata": {
            "tags": []
          },
          "execution_count": 79
        }
      ]
    },
    {
      "cell_type": "code",
      "metadata": {
        "id": "bxAdD8bqmFed"
      },
      "source": [
        "x = x.reshape((6,1))"
      ],
      "execution_count": 80,
      "outputs": []
    },
    {
      "cell_type": "code",
      "metadata": {
        "id": "6isl81cDmS3t",
        "outputId": "f9399c66-84d9-46ca-a83d-4c19438253a4",
        "colab": {
          "base_uri": "https://localhost:8080/",
          "height": 118
        }
      },
      "source": [
        "x"
      ],
      "execution_count": 81,
      "outputs": [
        {
          "output_type": "execute_result",
          "data": {
            "text/plain": [
              "array([[0.],\n",
              "       [1.],\n",
              "       [2.],\n",
              "       [3.],\n",
              "       [4.],\n",
              "       [5.]])"
            ]
          },
          "metadata": {
            "tags": []
          },
          "execution_count": 81
        }
      ]
    },
    {
      "cell_type": "code",
      "metadata": {
        "id": "FePmb05KmTPF"
      },
      "source": [
        "x = x.reshape((2,3))"
      ],
      "execution_count": 82,
      "outputs": []
    },
    {
      "cell_type": "code",
      "metadata": {
        "id": "3wHRF9UymYdH",
        "outputId": "d9b9392b-4623-4337-83f0-9c53d7edb414",
        "colab": {
          "base_uri": "https://localhost:8080/",
          "height": 50
        }
      },
      "source": [
        "x"
      ],
      "execution_count": 83,
      "outputs": [
        {
          "output_type": "execute_result",
          "data": {
            "text/plain": [
              "array([[0., 1., 2.],\n",
              "       [3., 4., 5.]])"
            ]
          },
          "metadata": {
            "tags": []
          },
          "execution_count": 83
        }
      ]
    },
    {
      "cell_type": "code",
      "metadata": {
        "id": "FVhj9LWumYyg"
      },
      "source": [
        "x = np.zeros((100, 10))\n",
        "x = np.transpose(x)"
      ],
      "execution_count": 86,
      "outputs": []
    },
    {
      "cell_type": "code",
      "metadata": {
        "id": "7b5b0cchmi3n",
        "outputId": "94c2a09a-a64c-4a59-e5ef-412fdd3f9958",
        "colab": {
          "base_uri": "https://localhost:8080/",
          "height": 34
        }
      },
      "source": [
        "print(x.shape)"
      ],
      "execution_count": 87,
      "outputs": [
        {
          "output_type": "stream",
          "text": [
            "(10, 100)\n"
          ],
          "name": "stdout"
        }
      ]
    },
    {
      "cell_type": "code",
      "metadata": {
        "id": "2s4ScLOgmotv"
      },
      "source": [
        ""
      ],
      "execution_count": null,
      "outputs": []
    }
  ]
}